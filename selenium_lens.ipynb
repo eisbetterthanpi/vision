{
  "cells": [
    {
      "cell_type": "markdown",
      "metadata": {
        "id": "view-in-github",
        "colab_type": "text"
      },
      "source": [
        "<a href=\"https://colab.research.google.com/github/eisbetterthanpi/vision/blob/main/selenium_lens.ipynb\" target=\"_parent\"><img src=\"https://colab.research.google.com/assets/colab-badge.svg\" alt=\"Open In Colab\"/></a>"
      ]
    },
    {
      "cell_type": "code",
      "execution_count": null,
      "metadata": {
        "id": "tOOxPQqDDL57"
      },
      "outputs": [],
      "source": [
        "# https://lens.google.com/search?p=0\n"
      ]
    },
    {
      "cell_type": "code",
      "execution_count": null,
      "metadata": {
        "cellView": "form",
        "id": "2v7M0yYbpoE_"
      },
      "outputs": [],
      "source": [
        "# @title setup\n",
        "# https://colab.research.google.com/github/kaliiiiiiiiii/Selenium-Profiles/blob/master/google-colab/selenium_profiles.ipynb\n",
        "\n",
        "%%shell\n",
        "# Ubuntu no longer distributes chromium-browser outside of snap\n",
        "#\n",
        "# Proposed solution: https://askubuntu.com/questions/1204571/how-to-install-chromium-without-snap\n",
        "\n",
        "# Add debian buster\n",
        "cat > /etc/apt/sources.list.d/debian.list <<'EOF'\n",
        "deb [arch=amd64 signed-by=/usr/share/keyrings/debian-buster.gpg] http://deb.debian.org/debian buster main\n",
        "deb [arch=amd64 signed-by=/usr/share/keyrings/debian-buster-updates.gpg] http://deb.debian.org/debian buster-updates main\n",
        "deb [arch=amd64 signed-by=/usr/share/keyrings/debian-security-buster.gpg] http://deb.debian.org/debian-security buster/updates main\n",
        "EOF\n",
        "\n",
        "# Add keys\n",
        "apt-key adv --keyserver keyserver.ubuntu.com --recv-keys DCC9EFBF77E11517\n",
        "apt-key adv --keyserver keyserver.ubuntu.com --recv-keys 648ACFD622F3D138\n",
        "apt-key adv --keyserver keyserver.ubuntu.com --recv-keys 112695A0E562B32A\n",
        "\n",
        "apt-key export 77E11517 | gpg --dearmour -o /usr/share/keyrings/debian-buster.gpg\n",
        "apt-key export 22F3D138 | gpg --dearmour -o /usr/share/keyrings/debian-buster-updates.gpg\n",
        "apt-key export E562B32A | gpg --dearmour -o /usr/share/keyrings/debian-security-buster.gpg\n",
        "\n",
        "# Prefer debian repo for chromium* packages only\n",
        "# Note the double-blank lines between entries\n",
        "cat > /etc/apt/preferences.d/chromium.pref << 'EOF'\n",
        "Package: *\n",
        "Pin: release a=eoan\n",
        "Pin-Priority: 500\n",
        "\n",
        "\n",
        "Package: *\n",
        "Pin: origin \"deb.debian.org\"\n",
        "Pin-Priority: 300\n",
        "\n",
        "\n",
        "Package: chromium*\n",
        "Pin: origin \"deb.debian.org\"\n",
        "Pin-Priority: 700\n",
        "EOF\n",
        "\n",
        "# Install chromium and chromium-driver\n",
        "apt-get update\n",
        "apt-get install chromium\n",
        "\n",
        "# Install xvfb\n",
        "apt install -y xvfb\n",
        "\n",
        "# Install Selenium-Profiles\n",
        "pip uninstall -y selenium_profiles\n",
        "pip install --no-cache-dir selenium_profiles>=2.2.6\n",
        "\n",
        "# pip install https://github.com/kaliiiiiiiiii/Selenium-Profiles/archive/refs/heads/dev.zip # dev-branch\n",
        "\n",
        "# install python packages\n",
        "pip install google-colab-shell\n",
        "pip install webdriver-manager\n",
        "pip install Pyvirtualdisplay\n"
      ]
    },
    {
      "cell_type": "code",
      "execution_count": null,
      "metadata": {
        "id": "iXj3Y3t3Q1Sc",
        "cellView": "form"
      },
      "outputs": [],
      "source": [
        "# @title service\n",
        "# https://stackoverflow.com/questions/76428999/selenium-chrome-webdriver-stopped-working\n",
        "# https://stackoverflow.com/questions/76409097/driver-webdriver-chrome-issues-with-a-selenium-approach-how-to-work-aro\n",
        "\n",
        "!apt-get update\n",
        "!apt-get install chromium chromium-driver\n",
        "!pip3 install selenium\n",
        "\n",
        "from selenium import webdriver\n",
        "from selenium.webdriver.chrome.service import Service\n",
        "\n",
        "service = Service(executable_path=\"chromedriver\")\n",
        "options = webdriver.ChromeOptions()\n",
        "options.add_argument('--headless')\n",
        "options.add_argument('--no-sandbox')\n",
        "# options.add_argument('--blink-settings=imagesEnabled=false') # me\n",
        "# options.add_experimental_option(\"prefs\", {\"profile.managed_default_content_settings.images\": 2})\n",
        "# driver = webdriver.Chrome(service=service, options=options)\n",
        "\n",
        "# url = \"https://www.google.com/search?q=Semi-Detached+House+bungalow+modern+-plan+-interior+-illustration+-news+-model+-3D\"\n",
        "# driver.get(url)  # test fingerprint\n",
        "# print(driver.title)\n",
        "# driver.quit()\n"
      ]
    },
    {
      "cell_type": "code",
      "execution_count": 3,
      "metadata": {
        "cellView": "form",
        "id": "d9MiZCtgEFWS"
      },
      "outputs": [],
      "source": [
        "# @title scrape google\n",
        "from selenium.webdriver.support.ui import WebDriverWait\n",
        "from selenium.webdriver.support import expected_conditions as EC\n",
        "from selenium.webdriver.common.by import By\n",
        "import time\n",
        "import requests\n",
        "import math\n",
        "from PIL import Image\n",
        "import matplotlib.pyplot as plt\n",
        "\n",
        "url = \"https://lens.google.com/search?p=0\"\n",
        "\n",
        "\n",
        "# service = Service(executable_path=\"chromedriver\")\n",
        "# options = webdriver.ChromeOptions()\n",
        "# options.add_argument('--headless')\n",
        "# options.add_argument('--no-sandbox')\n",
        "# # options.add_argument('--blink-settings=imagesEnabled=false') # me\n",
        "\n",
        "# driver = webdriver.Chrome(service=service, options=options)\n",
        "\n",
        "# driver.get(url)\n",
        "\n",
        "# reject = driver.find_elements(By.XPATH,\"*//button[@aria-label='Reject all']\")#[0]#.click()\n",
        "# if reject: reject[0].click()\n",
        "\n",
        "# hits = driver.find_elements(By.XPATH,\"*//a[@class='wXeWr islib nfEiy']\")\n",
        "# print(len(hits))\n",
        "# # print(len(img_urls))\n"
      ]
    },
    {
      "cell_type": "code",
      "execution_count": 4,
      "metadata": {
        "cellView": "form",
        "id": "eSAAiOkzLVXx"
      },
      "outputs": [],
      "source": [
        "# @title funcs\n",
        "\n",
        "from selenium import webdriver\n",
        "from selenium.webdriver.chrome.service import Service\n",
        "def newdriver():\n",
        "    service = Service(executable_path=\"chromedriver\")\n",
        "    options = webdriver.ChromeOptions()\n",
        "    options.add_argument('--headless')\n",
        "    options.add_argument('--no-sandbox')\n",
        "    # options.add_argument('--blink-settings=imagesEnabled=false') # me dont load images\n",
        "    # options.add_argument(\"--disable-gpu\") # me against SessionNotCreatedException: Timed out receiving message from renderer\n",
        "    driver = webdriver.Chrome(service=service, options=options)\n",
        "    return driver\n",
        "\n",
        "import signal\n",
        "import time\n",
        "def timeout_handler(num, stack): raise Exception(\"timeout\")\n",
        "\n",
        "def new_driver():\n",
        "    for i in range(30):\n",
        "        signal.signal(signal.SIGALRM, timeout_handler)\n",
        "        signal.alarm(2)\n",
        "        try: return newdriver()\n",
        "        except Exception as ex: pass\n",
        "        finally: signal.alarm(0)\n",
        "\n",
        "\n",
        "# driver = new_driver()\n",
        "# driver.get(url)\n",
        "# reject = driver.find_elements(By.XPATH,\"*//button[@aria-label='Reject all']\")#[0]#.click()\n",
        "# if reject: reject[0].click()\n",
        "# # # driver.quit()\n",
        "\n",
        "def scroll_end(driver):\n",
        "    end = driver.find_elements(By.XPATH,'''*//div[@data-endedmessage=\"Looks like you've reached the end\"]''')[0]#.click()\n",
        "    while end.get_attribute(\"data-status\") != \"3\": # =5, =3 when reach end\n",
        "        more = driver.find_elements(By.XPATH,\"*//input[@value='Show more results']\")[0]#.click()\n",
        "        if more.is_displayed(): more.click()\n",
        "        # height = driver.execute_script(\"return document.body.scrollHeight\")\n",
        "        driver.execute_script(\"window.scrollTo(0, document.body.scrollHeight);\") # scroll down\n",
        "\n",
        "\n",
        "\n",
        "# getting img url by clicking in, not reliable\n",
        "#     # try: img_src = driver.find_elements(By.XPATH,\"*//img[@jsname='kn3ccd']\")[0].get_attribute(\"src\")\n",
        "#     # except: continue\n",
        "#     # img_src = driver.find_elements(By.XPATH,\"*//a[@class='Du2c7e']\")[0].get_attribute(\"href\")\n",
        "#     # img_src = driver.find_elements(By.XPATH,\"*//a[@class='Du2c7e']/img\")[0].get_attribute(\"src\")\n",
        "\n",
        "def click_all(driver):\n",
        "    see_more=[]\n",
        "    hits = driver.find_elements(By.XPATH,\"*//a[@class='wXeWr islib nfEiy']\")\n",
        "    driver.execute_script(\"hits = document.getElementsByClassName('wXeWr islib nfEiy')\")\n",
        "    print(len(hits)) # 780\n",
        "    # for i, x in enumerate(hits):\n",
        "    for i in range(len(hits)):\n",
        "        # hits[i].click()\n",
        "        driver.execute_script(\"hits[\"+str(i)+\"].click();\")\n",
        "        try:\n",
        "            WebDriverWait(driver, 3).until(EC.presence_of_element_located((By.XPATH, \"*//a[@aria-label='See more Related content']\")))\n",
        "            see_mor = driver.find_elements(By.XPATH,\"*//a[@aria-label='See more Related content']\")[0].get_attribute(\"href\")\n",
        "        except: see_mor=\"_\"\n",
        "        see_more.append(see_mor)\n",
        "    return see_more\n",
        "\n",
        "from urllib.parse import unquote\n",
        "import re\n",
        "def get_imgurls(driver):\n",
        "    pro=driver.page_source\n",
        "    # pro=driver.execute_script(\"return document.documentElement.outerHTML\")\n",
        "    pro = unquote(pro)\n",
        "    pro = pro.encode().decode('unicode-escape') # try to remove \\\\u00\n",
        "    # pattern = r\"https://(?:(?!\\\").)*\\.jpg\" # start with https:// , no \" , end with .jpg # https://stackoverflow.com/a/67540659/13359815\n",
        "    pattern = r\"(?<=href=\\\"/imgres\\?imgurl=)(?:(?!&amp;).)*(?=&amp;)\" # start with href=\"/imgres?imgurl= , no &amp; , end with &amp; # https://stackoverflow.com/a/3926546/13359815\n",
        "    # pattern = r\"https://(?:(?!\\\").)*(?=\\\")\" # start with https:// , no \" , end with \" # all urls\n",
        "    # pattern = r\"(?<=\\],\\[\\\")https://(?:(?!\\\").)*(?=\\\")\" # start with ],[\" then https:// , no \" , end with \" # all imgs? fast\n",
        "    m = re.findall(pattern, pro)\n",
        "    return m\n",
        "\n",
        "import time\n",
        "def get_skip(id=0, tt=20, dx=20):\n",
        "    now = time.time()\n",
        "    cyc = tt*dx\n",
        "    curr = now %(cyc)\n",
        "    want = id*dx\n",
        "    skp = (want-curr)%cyc\n",
        "    return skp\n",
        "\n"
      ]
    },
    {
      "cell_type": "code",
      "execution_count": null,
      "metadata": {
        "id": "pwD4fKMcFIaX",
        "cellView": "form"
      },
      "outputs": [],
      "source": [
        "# @title works\n",
        "driver = new_driver()\n",
        "\n",
        "url = \"https://lens.google.com/search?p=0\"\n",
        "driver.get(url)\n",
        "\n",
        "# upload\n",
        "WebDriverWait(driver, 3).until(EC.element_to_be_clickable((By.XPATH, \"*//button[@jscontroller='soHxf']\")))\n",
        "element = driver.find_elements(By.XPATH,\"*//button[@jscontroller='soHxf']\")[0]\n",
        "element.click()\n",
        "\n",
        "# by computer\n",
        "WebDriverWait(driver, 3).until(EC.element_to_be_clickable((By.XPATH, \"*//li[@aria-label='Computer']\")))\n",
        "element = driver.find_elements(By.XPATH,\"*//li[@aria-label='Computer']\")[0]\n",
        "element.click()\n",
        "\n",
        "# input appears\n",
        "WebDriverWait(driver, 3).until(EC.presence_of_element_located((By.XPATH, \"*//input[@type='file']\")))\n",
        "element = driver.find_elements(By.XPATH,\"*//input[@type='file']\")[0]\n",
        "\n",
        "# file = \"/content/01. 1 LUCKY RISE 2022-09.jpg\"\n",
        "file = \"/content/01. 1 MORLEY RD 2022-05.jpg\"\n",
        "element.send_keys(file)\n",
        "\n"
      ]
    },
    {
      "cell_type": "code",
      "execution_count": null,
      "metadata": {
        "cellView": "form",
        "id": "gfq92eKNdguJ"
      },
      "outputs": [],
      "source": [
        "# @title check driver state\n",
        "from PIL import Image\n",
        "import matplotlib.pyplot as plt\n",
        "driver.get_screenshot_as_file(\"canvas.png\")\n",
        "image = Image.open('canvas.png').convert(\"RGB\")\n",
        "plt.figure(figsize=(5, 3))\n",
        "plt.axis('off')\n",
        "plt.imshow(image)\n",
        "plt.show()\n",
        "\n",
        "# print(driver.page_source)\n"
      ]
    },
    {
      "cell_type": "code",
      "execution_count": null,
      "metadata": {
        "cellView": "form",
        "id": "_rmL-9KhLtWw"
      },
      "outputs": [],
      "source": [
        "# @title get lens urls\n",
        "from urllib.parse import unquote\n",
        "import re\n",
        "\n",
        "pro=driver.page_source\n",
        "# pro=driver.execute_script(\"return document.documentElement.outerHTML\")\n",
        "pro = unquote(pro)\n",
        "pro = pro.encode().decode('unicode-escape') # try to remove \\\\u00\n",
        "pattern = r\"(?<=src\\=\\\")https://encrypted-tbn[0-9].gstatic.com/images(?:(?!\\\").)*(?=\\\")\" # start with src=\" ,then https...tbn(any num).../images , no \" , end with \"\"\n",
        "m = re.findall(pattern, pro)\n",
        "\n",
        "# print(m)\n",
        "print(len(m)) # 60\n"
      ]
    },
    {
      "cell_type": "code",
      "source": [
        "# @title frame lens\n",
        "from selenium.webdriver.common.action_chains import ActionChains\n",
        "# needs images to be enabled in driver, else will element not interactable\n",
        "\n",
        "# WebDriverWait(driver, 3).until(EC.element_to_be_clickable((By.XPATH, \"*//div[@class='m8mnA']/div[1]\")))\n",
        "\n",
        "WebDriverWait(driver, 3).until(EC.presence_of_element_located((By.XPATH, \"*//div[@class='sDb53']\")))\n",
        "element = driver.find_elements(By.XPATH,\"*//div[@class='sDb53']\")[0] # to get windowlocation and size\n",
        "# print(element.rect) # {'height': 220, 'width': 352, 'x': 0, 'y': 0}\n",
        "\n",
        "# driver.execute_script(\"document.querySelector('[class=m8mnA]').children[0].click();\") #\n",
        "\n",
        "WebDriverWait(driver, 1).until(EC.presence_of_element_located((By.XPATH, \"*//div[@class='m8mnA']/div[1]\")))\n",
        "source1 = driver.find_elements(By.XPATH,\"*//div[@class='m8mnA']/div[1]\")[0]\n",
        "# source1 = driver.find_elements(By.XPATH,\"*//div[@class='m8mnA']/div[1]/input\")[0]\n",
        "# print(source1.get_attribute(\"aria-label\"))\n",
        "x1=source1.rect['x']\n",
        "y1=source1.rect['y']\n",
        "\n",
        "actions2 = ActionChains(driver)\n",
        "actions2.drag_and_drop_by_offset(source1, -x1, -y1).perform()\n",
        "\n",
        "source2 = driver.find_elements(By.XPATH,\"*//div[@class='m8mnA']/div[3]\")[0]\n",
        "x2=source2.rect['x']\n",
        "y2=source2.rect['y']\n",
        "x=element.rect['width']+element.rect['x']\n",
        "y=element.rect['height']+element.rect['y']\n",
        "\n",
        "# print(x,y,x2,y2)\n",
        "actions2.drag_and_drop_by_offset(source2, x-x2, y-y2).perform()\n",
        "\n",
        "# BgmNhe L6cTce KUcdrd\n",
        "# <div class=\"BgmNhe  KUcdrd\">\n"
      ],
      "metadata": {
        "id": "cwxbpzjqjNcT",
        "cellView": "form"
      },
      "execution_count": null,
      "outputs": []
    },
    {
      "cell_type": "code",
      "execution_count": 5,
      "metadata": {
        "id": "isp_d0uezZHD",
        "cellView": "form"
      },
      "outputs": [],
      "source": [
        "# @title works funcs\n",
        "# driver = new_driver()\n",
        "\n",
        "# try: driver.get(url)\n",
        "# except Exception as ex:\n",
        "#     print(url, ex)\n",
        "\n",
        "def works(driver, file):\n",
        "    url = \"https://lens.google.com/search?p=0\"\n",
        "    driver.get(url)\n",
        "    reject = driver.find_elements(By.XPATH,\"*//button[@aria-label='Reject all']\")#[0]#.click()\n",
        "    if reject: reject[0].click()\n",
        "    # upload\n",
        "    WebDriverWait(driver, 3).until(EC.element_to_be_clickable((By.XPATH, \"*//button[@jscontroller='soHxf']\")))\n",
        "    element = driver.find_elements(By.XPATH,\"*//button[@jscontroller='soHxf']\")[0]\n",
        "    element.click()\n",
        "    # by computer\n",
        "    WebDriverWait(driver, 3).until(EC.element_to_be_clickable((By.XPATH, \"*//li[@aria-label='Computer']\")))\n",
        "    element = driver.find_elements(By.XPATH,\"*//li[@aria-label='Computer']\")[0]\n",
        "    element.click()\n",
        "    # input appears\n",
        "    WebDriverWait(driver, 3).until(EC.presence_of_element_located((By.XPATH, \"*//input[@type='file']\")))\n",
        "    element = driver.find_elements(By.XPATH,\"*//input[@type='file']\")[0]\n",
        "    element.send_keys(file)\n",
        "\n",
        "\n",
        "from selenium.webdriver.common.action_chains import ActionChains\n",
        "def frame_lens(driver): # needs images to be enabled in driver, else will element not interactable\n",
        "    actions = ActionChains(driver)\n",
        "\n",
        "    WebDriverWait(driver, 3).until(EC.presence_of_element_located((By.XPATH, \"*//div[@class='sDb53']\")))\n",
        "    element = driver.find_elements(By.XPATH,\"*//div[@class='sDb53']\")[0] # to get windowlocation and size\n",
        "    # print(element.rect) # {'height': 220, 'width': 352, 'x': 0, 'y': 0}\n",
        "\n",
        "    WebDriverWait(driver, 1).until(EC.presence_of_element_located((By.XPATH, \"*//div[@class='m8mnA']/div[1]\")))\n",
        "    source1 = driver.find_elements(By.XPATH,\"*//div[@class='m8mnA']/div[1]\")[0] # top left\n",
        "    dx1 = -source1.rect['x']\n",
        "    dy1 = -source1.rect['y']\n",
        "    actions.drag_and_drop_by_offset(source1, dx1, dy1).perform()\n",
        "\n",
        "    source2 = driver.find_elements(By.XPATH,\"*//div[@class='m8mnA']/div[3]\")[0] # bottom right\n",
        "    dx2 = element.rect['width']+element.rect['x']-source2.rect['x']\n",
        "    dy2 = element.rect['height']+element.rect['y']-source2.rect['y']\n",
        "    actions.drag_and_drop_by_offset(source2, dx2, dx2).perform()\n",
        "\n",
        "\n",
        "from urllib.parse import unquote\n",
        "import re\n",
        "def get_lensurls(driver):\n",
        "    pro=driver.page_source\n",
        "    # pro=driver.execute_script(\"return document.documentElement.outerHTML\")\n",
        "    pro = unquote(pro)\n",
        "    pro = pro.encode().decode('unicode-escape') # try to remove \\\\u00\n",
        "    pattern = r\"(?<=src\\=\\\")https://encrypted-tbn[0-9].gstatic.com/images(?:(?!\\\").)*(?=\\\")\" # start with src=\" ,then https...tbn(any num).../images , no \" , end with \"\"\n",
        "    m = re.findall(pattern, pro)\n",
        "    return m\n",
        "\n",
        "# https://www.google.com/searchbyimage?image_url=<your_url>&client=app\n",
        "# uuu = \"https://www.google.com/searchbyimage?image_url=\"+m[23]+\"&client=app\"\n",
        "def lens2google(uuu, driver):\n",
        "    url = \"https://www.google.com/searchbyimage?image_url=\"+uuu+\"&client=app\"\n",
        "    # print(\"lens2google\", url)\n",
        "    driver.get(url)\n",
        "    # visually similar images\n",
        "    WebDriverWait(driver, 5).until(EC.presence_of_element_located((By.XPATH, \"*//a[@class='ekf0x hSQtef']\")))\n",
        "    try: WebDriverWait(driver, 5).until(EC.presence_of_element_located((By.XPATH, \"*//a[@class='ekf0x hSQtef']\")))\n",
        "    except:\n",
        "        print(\"npoe\",url)\n",
        "        return\n",
        "    href = driver.find_elements(By.XPATH,\"*//a[@class='ekf0x hSQtef']\")[0].get_attribute(\"href\")\n",
        "    # print(href)\n",
        "    hh = href.split('&')[1]\n",
        "    # print(hh)\n",
        "    search = 'house'\n",
        "    exclude = \" -youtube -plan -interior -illustration -news -model -3D -aerial\"\n",
        "    query = (search+exclude).replace(' ','+')\n",
        "    # print('https://www.google.com/search?client=app&'+hh+'&q='+query+'&tbm=isch')\n",
        "    return 'https://www.google.com/search?client=app&'+hh+'&q='+query+'&tbm=isch'\n",
        "\n",
        "# driver = new_driver()\n",
        "# filename = \"/content/01. 1 LUCKY RISE 2022-09.jpg\"\n",
        "# works(driver, filename)\n",
        "# WebDriverWait(driver, 5).until(EC.presence_of_element_located((By.XPATH, \"*//img[@class='wETe9b jFVN1']\")))\n",
        "# m = get_lensurls(driver)\n",
        "# print(len(m))\n"
      ]
    },
    {
      "cell_type": "code",
      "execution_count": null,
      "metadata": {
        "id": "EkREJhVmDm2s"
      },
      "outputs": [],
      "source": [
        "!gdown 1xkNwwHQJ83ZATC46hD9Gvw8T5BkGOZch -O select.zip # bob\n",
        "!unzip /content/select.zip -d /content\n",
        "!rm -R /content/select/.ipynb_checkpoints\n",
        "\n",
        "from google.colab import drive\n",
        "drive.mount('/content/drive')\n"
      ]
    },
    {
      "cell_type": "code",
      "execution_count": null,
      "metadata": {
        "colab": {
          "background_save": true,
          "base_uri": "https://localhost:8080/"
        },
        "id": "lL5DW_FRsTdF",
        "outputId": "9a5f7f28-90dc-4e3a-8e30-9ab53aad17dc"
      },
      "outputs": [
        {
          "output_type": "stream",
          "name": "stdout",
          "text": [
            "###### 0 /content/select/01/01. 10 JLN TENANG 2023-04.jpg\n"
          ]
        },
        {
          "output_type": "stream",
          "name": "stderr",
          "text": [
            "<ipython-input-5-6972242f1d8b>:53: DeprecationWarning: invalid escape sequence '\\s'\n",
            "  pro = pro.encode().decode('unicode-escape') # try to remove \\\\u00\n"
          ]
        },
        {
          "output_type": "stream",
          "name": "stdout",
          "text": [
            "###### 1 /content/select/01/01. 2 TAMAN BEDOK 2022-09.jpg\n",
            "Message: \n",
            "Stacktrace:\n",
            "#0 0x58c967fd07f9 <unknown>\n",
            "#1 0x58c967f703b3 <unknown>\n",
            "#2 0x58c967cb8016 <unknown>\n",
            "#3 0x58c967cec81e <unknown>\n",
            "#4 0x58c967d228fb <unknown>\n",
            "#5 0x58c967d0fded <unknown>\n",
            "#6 0x58c967d209e1 <unknown>\n",
            "#7 0x58c967d0fc93 <unknown>\n",
            "#8 0x58c967ce1ce4 <unknown>\n",
            "#9 0x58c967ce34d2 <unknown>\n",
            "#10 0x58c967f9c542 <unknown>\n",
            "#11 0x58c967fabce7 <unknown>\n",
            "#12 0x58c967fab9e4 <unknown>\n",
            "#13 0x58c967fb013a <unknown>\n",
            "#14 0x58c967fac5b9 <unknown>\n",
            "#15 0x58c967f91e00 <unknown>\n",
            "#16 0x58c967fc35d2 <unknown>\n",
            "#17 0x58c967fc3778 <unknown>\n",
            "#18 0x58c967fdba1f <unknown>\n",
            "#19 0x7f834fa42b43 <unknown>\n",
            "#20 0x7f834fad4a00 <unknown>\n",
            "\n",
            "###### 2 /content/select/01/01. 2 MAYFIELD AVE 2022-10.jpg\n",
            "0 done\n",
            "###### 3 /content/select/01/01. 3 BRIDPORT AVE 2023-01.jpg\n"
          ]
        },
        {
          "output_type": "stream",
          "name": "stderr",
          "text": [
            "<ipython-input-5-6972242f1d8b>:53: DeprecationWarning: invalid escape sequence '\\s'\n",
            "  pro = pro.encode().decode('unicode-escape') # try to remove \\\\u00\n"
          ]
        },
        {
          "output_type": "stream",
          "name": "stdout",
          "text": [
            "0 done\n",
            "###### 4 /content/select/01/01. 1C VICTORIA PK RD 2021-07.jpg\n"
          ]
        },
        {
          "output_type": "stream",
          "name": "stderr",
          "text": [
            "<ipython-input-5-6972242f1d8b>:53: DeprecationWarning: invalid escape sequence '\\s'\n",
            "  pro = pro.encode().decode('unicode-escape') # try to remove \\\\u00\n"
          ]
        },
        {
          "output_type": "stream",
          "name": "stdout",
          "text": [
            "0 done\n",
            "###### 5 /content/select/01/01. 16 VAUGHAN RD 2022-04.jpg\n"
          ]
        },
        {
          "output_type": "stream",
          "name": "stderr",
          "text": [
            "<ipython-input-5-6972242f1d8b>:53: DeprecationWarning: invalid escape sequence '\\s'\n",
            "  pro = pro.encode().decode('unicode-escape') # try to remove \\\\u00\n"
          ]
        },
        {
          "output_type": "stream",
          "name": "stdout",
          "text": [
            "0 done\n",
            "###### 6 /content/select/01/01. 12 BRIGHTON CRES 2022-04.jpg\n",
            "0 done\n"
          ]
        },
        {
          "output_type": "stream",
          "name": "stderr",
          "text": [
            "<ipython-input-5-6972242f1d8b>:53: DeprecationWarning: invalid escape sequence '\\s'\n",
            "  pro = pro.encode().decode('unicode-escape') # try to remove \\\\u00\n"
          ]
        },
        {
          "output_type": "stream",
          "name": "stdout",
          "text": [
            "###### 7 /content/select/01/01. 2 PILLAI RD 2022-03.jpg\n",
            "0 done\n",
            "###### 8 /content/select/01/01. 6 TOSCA TER 2022-09.jpg\n"
          ]
        },
        {
          "output_type": "stream",
          "name": "stderr",
          "text": [
            "<ipython-input-5-6972242f1d8b>:53: DeprecationWarning: invalid escape sequence '\\s'\n",
            "  pro = pro.encode().decode('unicode-escape') # try to remove \\\\u00\n"
          ]
        },
        {
          "output_type": "stream",
          "name": "stdout",
          "text": [
            "0 done\n",
            "###### 9 /content/select/01/01. 3 CASUARINA RD 2019-11.jpg\n"
          ]
        },
        {
          "output_type": "stream",
          "name": "stderr",
          "text": [
            "<ipython-input-5-6972242f1d8b>:53: DeprecationWarning: invalid escape sequence '\\s'\n",
            "  pro = pro.encode().decode('unicode-escape') # try to remove \\\\u00\n"
          ]
        },
        {
          "output_type": "stream",
          "name": "stdout",
          "text": [
            "0 done\n",
            "###### 10 /content/select/01/01. 17A JLN BELANGKAS 2022-03.jpg\n"
          ]
        },
        {
          "output_type": "stream",
          "name": "stderr",
          "text": [
            "<ipython-input-5-6972242f1d8b>:53: DeprecationWarning: invalid escape sequence '\\s'\n",
            "  pro = pro.encode().decode('unicode-escape') # try to remove \\\\u00\n"
          ]
        },
        {
          "output_type": "stream",
          "name": "stdout",
          "text": [
            "0 done\n",
            "###### 11 /content/select/01/01. 6 JLN KUPANG 2022-09.jpg\n"
          ]
        },
        {
          "output_type": "stream",
          "name": "stderr",
          "text": [
            "<ipython-input-5-6972242f1d8b>:53: DeprecationWarning: invalid escape sequence '\\s'\n",
            "  pro = pro.encode().decode('unicode-escape') # try to remove \\\\u00\n"
          ]
        },
        {
          "output_type": "stream",
          "name": "stdout",
          "text": [
            "0 done\n",
            "###### 12 /content/select/01/01. 2 KALIDASA AVE 2021-03.jpg\n"
          ]
        },
        {
          "output_type": "stream",
          "name": "stderr",
          "text": [
            "<ipython-input-5-6972242f1d8b>:53: DeprecationWarning: invalid escape sequence '\\s'\n",
            "  pro = pro.encode().decode('unicode-escape') # try to remove \\\\u00\n"
          ]
        },
        {
          "output_type": "stream",
          "name": "stdout",
          "text": [
            "0 done\n",
            "###### 13 /content/select/01/01. 1 JLN CHULEK 2018-03.jpg\n"
          ]
        },
        {
          "output_type": "stream",
          "name": "stderr",
          "text": [
            "<ipython-input-5-6972242f1d8b>:53: DeprecationWarning: invalid escape sequence '\\s'\n",
            "  pro = pro.encode().decode('unicode-escape') # try to remove \\\\u00\n"
          ]
        },
        {
          "output_type": "stream",
          "name": "stdout",
          "text": [
            "0 done\n",
            "###### 14 /content/select/01/01. 2 TAI KENG TER 2022-09.jpg\n"
          ]
        },
        {
          "output_type": "stream",
          "name": "stderr",
          "text": [
            "<ipython-input-5-6972242f1d8b>:53: DeprecationWarning: invalid escape sequence '\\s'\n",
            "  pro = pro.encode().decode('unicode-escape') # try to remove \\\\u00\n"
          ]
        },
        {
          "output_type": "stream",
          "name": "stdout",
          "text": [
            "0 done\n",
            "###### 15 /content/select/01/01. 3 HENDRY CL 2022-04.jpg\n"
          ]
        },
        {
          "output_type": "stream",
          "name": "stderr",
          "text": [
            "<ipython-input-5-6972242f1d8b>:53: DeprecationWarning: invalid escape sequence '\\s'\n",
            "  pro = pro.encode().decode('unicode-escape') # try to remove \\\\u00\n"
          ]
        },
        {
          "output_type": "stream",
          "name": "stdout",
          "text": [
            "0 done\n",
            "###### 16 /content/select/01/01. 9 JLN BANGKET 2023-03.jpg\n"
          ]
        },
        {
          "output_type": "stream",
          "name": "stderr",
          "text": [
            "<ipython-input-5-6972242f1d8b>:53: DeprecationWarning: invalid escape sequence '\\s'\n",
            "  pro = pro.encode().decode('unicode-escape') # try to remove \\\\u00\n"
          ]
        },
        {
          "output_type": "stream",
          "name": "stdout",
          "text": [
            "0 done\n",
            "###### 17 /content/select/01/01. 5 RIENZI ST 2022-09.jpg\n"
          ]
        },
        {
          "output_type": "stream",
          "name": "stderr",
          "text": [
            "<ipython-input-5-6972242f1d8b>:53: DeprecationWarning: invalid escape sequence '\\s'\n",
            "  pro = pro.encode().decode('unicode-escape') # try to remove \\\\u00\n"
          ]
        },
        {
          "output_type": "stream",
          "name": "stdout",
          "text": [
            "0 done\n",
            "###### 18 /content/select/01/01. 8 JEDBURGH GDNS 2022-09.jpg\n"
          ]
        },
        {
          "output_type": "stream",
          "name": "stderr",
          "text": [
            "<ipython-input-5-6972242f1d8b>:53: DeprecationWarning: invalid escape sequence '\\s'\n",
            "  pro = pro.encode().decode('unicode-escape') # try to remove \\\\u00\n"
          ]
        },
        {
          "output_type": "stream",
          "name": "stdout",
          "text": [
            "0 done\n",
            "###### 19 /content/select/01/01. 6 TOH TUCK WLK 2015-07.jpg\n"
          ]
        },
        {
          "output_type": "stream",
          "name": "stderr",
          "text": [
            "<ipython-input-5-6972242f1d8b>:53: DeprecationWarning: invalid escape sequence '\\s'\n",
            "  pro = pro.encode().decode('unicode-escape') # try to remove \\\\u00\n"
          ]
        },
        {
          "output_type": "stream",
          "name": "stdout",
          "text": [
            "0 done\n",
            "###### 20 /content/select/01/01. 2A LOR MARICAN 2023-01.jpg\n"
          ]
        },
        {
          "output_type": "stream",
          "name": "stderr",
          "text": [
            "<ipython-input-5-6972242f1d8b>:53: DeprecationWarning: invalid escape sequence '\\s'\n",
            "  pro = pro.encode().decode('unicode-escape') # try to remove \\\\u00\n"
          ]
        },
        {
          "output_type": "stream",
          "name": "stdout",
          "text": [
            "0 done\n",
            "###### 21 /content/select/01/01. 1 CARNATION DR 2021-04.jpg\n"
          ]
        },
        {
          "output_type": "stream",
          "name": "stderr",
          "text": [
            "<ipython-input-5-6972242f1d8b>:53: DeprecationWarning: invalid escape sequence '\\s'\n",
            "  pro = pro.encode().decode('unicode-escape') # try to remove \\\\u00\n"
          ]
        },
        {
          "output_type": "stream",
          "name": "stdout",
          "text": [
            "0 done\n",
            "###### 22 /content/select/01/01. 1C RIVIERA DR 2022-09.jpg\n"
          ]
        },
        {
          "output_type": "stream",
          "name": "stderr",
          "text": [
            "<ipython-input-5-6972242f1d8b>:53: DeprecationWarning: invalid escape sequence '\\s'\n",
            "  pro = pro.encode().decode('unicode-escape') # try to remove \\\\u00\n"
          ]
        },
        {
          "output_type": "stream",
          "name": "stdout",
          "text": [
            "0 done\n",
            "###### 23 /content/select/01/01. 25 BELIMBING AVE 2022-10.jpg\n"
          ]
        },
        {
          "output_type": "stream",
          "name": "stderr",
          "text": [
            "<ipython-input-5-6972242f1d8b>:53: DeprecationWarning: invalid escape sequence '\\s'\n",
            "  pro = pro.encode().decode('unicode-escape') # try to remove \\\\u00\n"
          ]
        },
        {
          "output_type": "stream",
          "name": "stdout",
          "text": [
            "0 done\n",
            "###### 24 /content/select/01/01. 5 SANDOWN PL 2022-03.jpg\n"
          ]
        },
        {
          "output_type": "stream",
          "name": "stderr",
          "text": [
            "<ipython-input-5-6972242f1d8b>:53: DeprecationWarning: invalid escape sequence '\\s'\n",
            "  pro = pro.encode().decode('unicode-escape') # try to remove \\\\u00\n"
          ]
        },
        {
          "output_type": "stream",
          "name": "stdout",
          "text": [
            "0 done\n",
            "###### 25 /content/select/01/01. 23 BODMIN DR 2019-10.jpg\n"
          ]
        },
        {
          "output_type": "stream",
          "name": "stderr",
          "text": [
            "<ipython-input-5-6972242f1d8b>:53: DeprecationWarning: invalid escape sequence '\\s'\n",
            "  pro = pro.encode().decode('unicode-escape') # try to remove \\\\u00\n"
          ]
        },
        {
          "output_type": "stream",
          "name": "stdout",
          "text": [
            "0 done\n",
            "###### 26 /content/select/01/01. 1 MORLEY RD 2022-05.jpg\n"
          ]
        },
        {
          "output_type": "stream",
          "name": "stderr",
          "text": [
            "<ipython-input-5-6972242f1d8b>:53: DeprecationWarning: invalid escape sequence '\\s'\n",
            "  pro = pro.encode().decode('unicode-escape') # try to remove \\\\u00\n"
          ]
        },
        {
          "output_type": "stream",
          "name": "stdout",
          "text": [
            "len(m)1 70\n",
            "len(m)2 70\n",
            "###### 27 /content/select/01/01. 27 JLN ELOK 2022-02.jpg\n",
            "0 done\n",
            "###### 28 /content/select/01/01. 2A SWANAGE RD 2023-01.jpg\n"
          ]
        },
        {
          "output_type": "stream",
          "name": "stderr",
          "text": [
            "<ipython-input-5-6972242f1d8b>:53: DeprecationWarning: invalid escape sequence '\\s'\n",
            "  pro = pro.encode().decode('unicode-escape') # try to remove \\\\u00\n"
          ]
        },
        {
          "output_type": "stream",
          "name": "stdout",
          "text": [
            "0 done\n",
            "###### 29 /content/select/01/01. 5 TAI KENG GDNS 2022-09.jpg\n"
          ]
        },
        {
          "output_type": "stream",
          "name": "stderr",
          "text": [
            "<ipython-input-5-6972242f1d8b>:53: DeprecationWarning: invalid escape sequence '\\s'\n",
            "  pro = pro.encode().decode('unicode-escape') # try to remove \\\\u00\n"
          ]
        },
        {
          "output_type": "stream",
          "name": "stdout",
          "text": [
            "0 done\n",
            "###### 30 /content/select/01/01. 64 FARLEIGH AVE 2023-01.jpg\n",
            "Message: \n",
            "Stacktrace:\n",
            "#0 0x58c967fd07f9 <unknown>\n",
            "#1 0x58c967f703b3 <unknown>\n",
            "#2 0x58c967cb8016 <unknown>\n",
            "#3 0x58c967cec81e <unknown>\n",
            "#4 0x58c967d228fb <unknown>\n",
            "#5 0x58c967d0fded <unknown>\n",
            "#6 0x58c967d209e1 <unknown>\n",
            "#7 0x58c967d0fc93 <unknown>\n",
            "#8 0x58c967ce1ce4 <unknown>\n",
            "#9 0x58c967ce34d2 <unknown>\n",
            "#10 0x58c967f9c542 <unknown>\n",
            "#11 0x58c967fabce7 <unknown>\n",
            "#12 0x58c967fab9e4 <unknown>\n",
            "#13 0x58c967fb013a <unknown>\n",
            "#14 0x58c967fac5b9 <unknown>\n",
            "#15 0x58c967f91e00 <unknown>\n",
            "#16 0x58c967fc35d2 <unknown>\n",
            "#17 0x58c967fc3778 <unknown>\n",
            "#18 0x58c967fdba1f <unknown>\n",
            "#19 0x7f834fa42b43 <unknown>\n",
            "#20 0x7f834fad4a00 <unknown>\n",
            "\n",
            "###### 31 /content/select/01/01. 3 JLN KAYU MANIS 2023-04.jpg\n"
          ]
        },
        {
          "output_type": "stream",
          "name": "stderr",
          "text": [
            "<ipython-input-5-6972242f1d8b>:53: DeprecationWarning: invalid escape sequence '\\s'\n",
            "  pro = pro.encode().decode('unicode-escape') # try to remove \\\\u00\n"
          ]
        },
        {
          "output_type": "stream",
          "name": "stdout",
          "text": [
            "0 done\n",
            "###### 32 /content/select/01/01. 5 ROSE LN 2019-04.jpg\n"
          ]
        },
        {
          "output_type": "stream",
          "name": "stderr",
          "text": [
            "<ipython-input-5-6972242f1d8b>:53: DeprecationWarning: invalid escape sequence '\\s'\n",
            "  pro = pro.encode().decode('unicode-escape') # try to remove \\\\u00\n"
          ]
        },
        {
          "output_type": "stream",
          "name": "stdout",
          "text": [
            "0 done\n",
            "###### 33 /content/select/01/01. 3 BARKER RD 2023-01.jpg\n"
          ]
        },
        {
          "output_type": "stream",
          "name": "stderr",
          "text": [
            "<ipython-input-5-6972242f1d8b>:53: DeprecationWarning: invalid escape sequence '\\s'\n",
            "  pro = pro.encode().decode('unicode-escape') # try to remove \\\\u00\n"
          ]
        },
        {
          "output_type": "stream",
          "name": "stdout",
          "text": [
            "0 done\n",
            "###### 34 /content/select/01/01. 12 MARSHALL RD 2023-01.jpg\n"
          ]
        },
        {
          "output_type": "stream",
          "name": "stderr",
          "text": [
            "<ipython-input-5-6972242f1d8b>:53: DeprecationWarning: invalid escape sequence '\\s'\n",
            "  pro = pro.encode().decode('unicode-escape') # try to remove \\\\u00\n"
          ]
        },
        {
          "output_type": "stream",
          "name": "stdout",
          "text": [
            "0 done\n",
            "###### 35 /content/select/01/01. 24 HAI SING RD 2022-08.jpg\n"
          ]
        },
        {
          "output_type": "stream",
          "name": "stderr",
          "text": [
            "<ipython-input-5-6972242f1d8b>:53: DeprecationWarning: invalid escape sequence '\\s'\n",
            "  pro = pro.encode().decode('unicode-escape') # try to remove \\\\u00\n"
          ]
        },
        {
          "output_type": "stream",
          "name": "stdout",
          "text": [
            "0 done\n",
            "###### 36 /content/select/01/01. 6 VENUS RD 2022-02.jpg\n",
            "Message: \n",
            "Stacktrace:\n",
            "#0 0x58c967fd07f9 <unknown>\n",
            "#1 0x58c967f703b3 <unknown>\n",
            "#2 0x58c967cb8016 <unknown>\n",
            "#3 0x58c967cec81e <unknown>\n",
            "#4 0x58c967d228fb <unknown>\n",
            "#5 0x58c967d0fded <unknown>\n",
            "#6 0x58c967d209e1 <unknown>\n",
            "#7 0x58c967d0fc93 <unknown>\n",
            "#8 0x58c967ce1ce4 <unknown>\n",
            "#9 0x58c967ce34d2 <unknown>\n",
            "#10 0x58c967f9c542 <unknown>\n",
            "#11 0x58c967fabce7 <unknown>\n",
            "#12 0x58c967fab9e4 <unknown>\n",
            "#13 0x58c967fb013a <unknown>\n",
            "#14 0x58c967fac5b9 <unknown>\n",
            "#15 0x58c967f91e00 <unknown>\n",
            "#16 0x58c967fc35d2 <unknown>\n",
            "#17 0x58c967fc3778 <unknown>\n",
            "#18 0x58c967fdba1f <unknown>\n",
            "#19 0x7f834fa42b43 <unknown>\n",
            "#20 0x7f834fad4a00 <unknown>\n",
            "\n",
            "###### 37 /content/select/01/01. 9 JLN PERNAMA 2022-10.jpg\n"
          ]
        },
        {
          "output_type": "stream",
          "name": "stderr",
          "text": [
            "<ipython-input-5-6972242f1d8b>:53: DeprecationWarning: invalid escape sequence '\\s'\n",
            "  pro = pro.encode().decode('unicode-escape') # try to remove \\\\u00\n"
          ]
        },
        {
          "output_type": "stream",
          "name": "stdout",
          "text": [
            "len(m)1 77\n",
            "len(m)2 77\n",
            "###### 38 /content/select/01/01. 1 MAYFLOWER PL 2021-06.jpg\n",
            "0 done\n",
            "###### 39 /content/select/01/01. 17 JLN BELANGKAS 2022-03.jpg\n"
          ]
        },
        {
          "output_type": "stream",
          "name": "stderr",
          "text": [
            "<ipython-input-5-6972242f1d8b>:53: DeprecationWarning: invalid escape sequence '\\s'\n",
            "  pro = pro.encode().decode('unicode-escape') # try to remove \\\\u00\n"
          ]
        }
      ],
      "source": [
        "# @title wwwwwwwww\n",
        "import pandas as pd\n",
        "\n",
        "def to_save(df):\n",
        "    with pd.ExcelWriter('/content/drive/MyDrive/lens_urls.xlsx', mode='a', engine=\"openpyxl\", if_sheet_exists=\"overlay\") as writer:\n",
        "        startrow = len(list(list(writer.sheets.values())[0].rows))\n",
        "        df.to_excel(writer, header=None, index=None, startrow=startrow)\n",
        "\n",
        "\n",
        "def pon(): # time is right\n",
        "    global sq\n",
        "    if sq: return\n",
        "    sq=True\n",
        "    skip = get_skip(id=id, tt=2, dx=60)\n",
        "    time.sleep(skip)\n",
        "    global urllist\n",
        "    data = {'search_url':urllist}\n",
        "    df = pd.DataFrame(data)\n",
        "    to_save(df)\n",
        "    urllist = []\n",
        "    sq=False\n",
        "    print(id,'done')\n",
        "\n",
        "\n",
        "from concurrent.futures import ThreadPoolExecutor\n",
        "\n",
        "driver = new_driver()\n",
        "e = ThreadPoolExecutor(3)\n",
        "\n",
        "id=0 # 0lens1 1lens2 2lens2\n",
        "\n",
        "sq=False\n",
        "ulist = []\n",
        "urllist = []\n",
        "import os\n",
        "img_dir = '/content/select/01' # 1M 2B 3S 4A 5t\n",
        "# for i, filename in enumerate(os.listdir(img_dir)):\n",
        "for i, filename in enumerate(os.listdir(img_dir)[:90]):\n",
        "# for i, filename in enumerate(os.listdir(img_dir)[90:]):\n",
        "# for i, filename in enumerate(os.listdir(img_dir)[:60]):\n",
        "# for i, filename in enumerate(os.listdir(img_dir)[60:120]):\n",
        "# for i, filename in enumerate(os.listdir(img_dir)[120:]):\n",
        "    file = img_dir+'/'+filename\n",
        "    print(\"######\", i, file)\n",
        "    works(driver, file)\n",
        "    try: WebDriverWait(driver, 5).until(EC.presence_of_element_located((By.XPATH, \"*//img[@class='wETe9b jFVN1']\")))\n",
        "    except Exception as ex:\n",
        "        print(ex)\n",
        "        continue\n",
        "    m = get_lensurls(driver)\n",
        "    # print(\"len(m)\",len(m))\n",
        "\n",
        "    if len(m) != 60:\n",
        "        print('len(m)1',len(m))\n",
        "        frame_lens(driver)\n",
        "        time.sleep(2)\n",
        "        m = get_lensurls(driver)\n",
        "        if len(m) != 60:\n",
        "            print('len(m)2',len(m))\n",
        "            continue\n",
        "\n",
        "    for uuu in m:\n",
        "        u = lens2google(uuu, driver)\n",
        "        if u: ulist.append(u)\n",
        "\n",
        "    # print(\"len(ulist)\",len(ulist))\n",
        "    urllist.extend(ulist)\n",
        "    ulist=[]\n",
        "    future = e.submit(pon)\n",
        "\n",
        "e.shutdown()\n",
        "\n"
      ]
    },
    {
      "cell_type": "code",
      "execution_count": null,
      "metadata": {
        "cellView": "form",
        "id": "Y1K3S1fhlpWC"
      },
      "outputs": [],
      "source": [
        "# @title test drive update time\n",
        "import pandas as pd\n",
        "import time\n",
        "data = {3:[0]}\n",
        "df = pd.DataFrame(data)\n",
        "while True:\n",
        "    skip = get_skip(id=0, tt=2, dx=30)\n",
        "    print(skip)\n",
        "    time.sleep(skip)\n",
        "\n",
        "    # with pd.ExcelWriter('/content/drive/MyDrive/lens_urls.xlsx', mode='a', engine=\"openpyxl\", if_sheet_exists=\"overlay\") as writer:\n",
        "    #     startrow = len(list(list(writer.sheets.values())[0].rows))\n",
        "    #     print(startrow)\n",
        "    #     if startrow%2==0:\n",
        "    #         df.to_excel(writer, header=None, index=None, startrow=startrow)\n",
        "\n",
        "    df1 = pd.read_excel(\"/content/drive/MyDrive/lens_urls.xlsx\", engine='openpyxl')\n",
        "    rows = df1['search_url'].count()\n",
        "    print(rows)\n",
        "    if rows%2==0:\n",
        "        df1.append(df)\n",
        "        df1.to_excel('/content/drive/MyDrive/lens_urls.xlsx', index=False)\n",
        "\n"
      ]
    }
  ],
  "metadata": {
    "colab": {
      "provenance": [],
      "include_colab_link": true
    },
    "kernelspec": {
      "display_name": "Python 3",
      "name": "python3"
    },
    "language_info": {
      "name": "python"
    }
  },
  "nbformat": 4,
  "nbformat_minor": 0
}